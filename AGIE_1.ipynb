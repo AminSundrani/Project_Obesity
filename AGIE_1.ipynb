{
 "cells": [
  {
   "cell_type": "markdown",
   "metadata": {},
   "source": [
    "Project_Obesity_NS : Obesity and Age"
   ]
  },
  {
   "cell_type": "code",
   "execution_count": 15,
   "metadata": {},
   "outputs": [],
   "source": [
    "# Dependencies and Setup\n",
    "import pandas as pd\n",
    "import numpy as np\n",
    "import random\n",
    "import matplotlib.pyplot as plt\n",
    "import scipy.stats as sts"
   ]
  },
  {
   "cell_type": "code",
   "execution_count": 16,
   "metadata": {},
   "outputs": [],
   "source": [
    "# A reference to file path\n",
    "report_csv_file = \"Data_Sources/2019-Annual.csv\"\n",
    "# Read School and Student Data File and store into Pandas DataFrames\n",
    "all_data_df = pd.read_csv(report_csv_file)"
   ]
  },
  {
   "cell_type": "code",
   "execution_count": 17,
   "metadata": {},
   "outputs": [
    {
     "data": {
      "text/html": [
       "<div>\n",
       "<style scoped>\n",
       "    .dataframe tbody tr th:only-of-type {\n",
       "        vertical-align: middle;\n",
       "    }\n",
       "\n",
       "    .dataframe tbody tr th {\n",
       "        vertical-align: top;\n",
       "    }\n",
       "\n",
       "    .dataframe thead th {\n",
       "        text-align: right;\n",
       "    }\n",
       "</style>\n",
       "<table border=\"1\" class=\"dataframe\">\n",
       "  <thead>\n",
       "    <tr style=\"text-align: right;\">\n",
       "      <th></th>\n",
       "      <th>Edition</th>\n",
       "      <th>Report Type</th>\n",
       "      <th>Measure Name</th>\n",
       "      <th>State Name</th>\n",
       "      <th>Rank</th>\n",
       "      <th>Value</th>\n",
       "      <th>Score</th>\n",
       "      <th>Lower CI</th>\n",
       "      <th>Upper CI</th>\n",
       "      <th>Source</th>\n",
       "      <th>Source Year</th>\n",
       "    </tr>\n",
       "  </thead>\n",
       "  <tbody>\n",
       "    <tr>\n",
       "      <th>0</th>\n",
       "      <td>2019</td>\n",
       "      <td>2019 Annual</td>\n",
       "      <td>Adverse Childhood Experiences</td>\n",
       "      <td>Alaska</td>\n",
       "      <td>34.0</td>\n",
       "      <td>24.1</td>\n",
       "      <td>0.96</td>\n",
       "      <td>27.7</td>\n",
       "      <td>20.5</td>\n",
       "      <td>AHR data</td>\n",
       "      <td>NaN</td>\n",
       "    </tr>\n",
       "    <tr>\n",
       "      <th>1</th>\n",
       "      <td>2019</td>\n",
       "      <td>2019 Annual</td>\n",
       "      <td>Adverse Childhood Experiences</td>\n",
       "      <td>Alabama</td>\n",
       "      <td>46.0</td>\n",
       "      <td>26.3</td>\n",
       "      <td>1.56</td>\n",
       "      <td>30.1</td>\n",
       "      <td>22.5</td>\n",
       "      <td>AHR data</td>\n",
       "      <td>NaN</td>\n",
       "    </tr>\n",
       "  </tbody>\n",
       "</table>\n",
       "</div>"
      ],
      "text/plain": [
       "   Edition  Report Type                   Measure Name State Name  Rank  \\\n",
       "0     2019  2019 Annual  Adverse Childhood Experiences     Alaska  34.0   \n",
       "1     2019  2019 Annual  Adverse Childhood Experiences    Alabama  46.0   \n",
       "\n",
       "   Value  Score  Lower CI  Upper CI    Source Source Year  \n",
       "0   24.1   0.96      27.7      20.5  AHR data         NaN  \n",
       "1   26.3   1.56      30.1      22.5  AHR data         NaN  "
      ]
     },
     "execution_count": 17,
     "metadata": {},
     "output_type": "execute_result"
    }
   ],
   "source": [
    "# View data_df\n",
    "all_data_df.head(2)"
   ]
  },
  {
   "cell_type": "code",
   "execution_count": 18,
   "metadata": {},
   "outputs": [
    {
     "data": {
      "text/plain": [
       "Edition           int64\n",
       "Report Type      object\n",
       "Measure Name     object\n",
       "State Name       object\n",
       "Rank            float64\n",
       "Value           float64\n",
       "Score           float64\n",
       "Lower CI        float64\n",
       "Upper CI        float64\n",
       "Source           object\n",
       "Source Year      object\n",
       "dtype: object"
      ]
     },
     "execution_count": 18,
     "metadata": {},
     "output_type": "execute_result"
    }
   ],
   "source": [
    "# Check Data Type\n",
    "all_data_df.dtypes"
   ]
  },
  {
   "cell_type": "code",
   "execution_count": 19,
   "metadata": {},
   "outputs": [
    {
     "data": {
      "text/plain": [
       "Edition         61509\n",
       "Report Type     61509\n",
       "Measure Name    61509\n",
       "State Name      61509\n",
       "Rank            32294\n",
       "Value           49620\n",
       "Score           29548\n",
       "Lower CI        47727\n",
       "Upper CI        47727\n",
       "Source          61509\n",
       "Source Year     53241\n",
       "dtype: int64"
      ]
     },
     "execution_count": 19,
     "metadata": {},
     "output_type": "execute_result"
    }
   ],
   "source": [
    "# Count to check any missing data\n",
    "all_data_df.count()"
   ]
  },
  {
   "cell_type": "code",
   "execution_count": 20,
   "metadata": {},
   "outputs": [
    {
     "data": {
      "text/plain": [
       "array(['Adverse Childhood Experiences', 'Air Pollution',\n",
       "       'All Determinants', ..., 'Voter Registration - White',\n",
       "       'Walk to Work', 'Water Fluoridation'], dtype=object)"
      ]
     },
     "execution_count": 20,
     "metadata": {},
     "output_type": "execute_result"
    }
   ],
   "source": [
    "# List Stat_name under \"Measure Name\"\n",
    "all_list = all_data_df[\"Measure Name\"].unique()\n",
    "all_list"
   ]
  },
  {
   "cell_type": "code",
   "execution_count": 21,
   "metadata": {},
   "outputs": [
    {
     "data": {
      "text/plain": [
       "0        False\n",
       "1        False\n",
       "2        False\n",
       "3        False\n",
       "4        False\n",
       "         ...  \n",
       "61504    False\n",
       "61505    False\n",
       "61506    False\n",
       "61507    False\n",
       "61508    False\n",
       "Name: Measure Name, Length: 61509, dtype: bool"
      ]
     },
     "execution_count": 21,
     "metadata": {},
     "output_type": "execute_result"
    }
   ],
   "source": [
    "# Create conditional\n",
    "all_data_df[\"Measure Name\"].str.contains('Obes', regex=True)"
   ]
  },
  {
   "cell_type": "code",
   "execution_count": 22,
   "metadata": {},
   "outputs": [
    {
     "data": {
      "text/html": [
       "<div>\n",
       "<style scoped>\n",
       "    .dataframe tbody tr th:only-of-type {\n",
       "        vertical-align: middle;\n",
       "    }\n",
       "\n",
       "    .dataframe tbody tr th {\n",
       "        vertical-align: top;\n",
       "    }\n",
       "\n",
       "    .dataframe thead th {\n",
       "        text-align: right;\n",
       "    }\n",
       "</style>\n",
       "<table border=\"1\" class=\"dataframe\">\n",
       "  <thead>\n",
       "    <tr style=\"text-align: right;\">\n",
       "      <th></th>\n",
       "      <th>Edition</th>\n",
       "      <th>Report Type</th>\n",
       "      <th>Measure Name</th>\n",
       "      <th>State Name</th>\n",
       "      <th>Rank</th>\n",
       "      <th>Value</th>\n",
       "      <th>Score</th>\n",
       "      <th>Lower CI</th>\n",
       "      <th>Upper CI</th>\n",
       "      <th>Source</th>\n",
       "      <th>Source Year</th>\n",
       "    </tr>\n",
       "  </thead>\n",
       "  <tbody>\n",
       "    <tr>\n",
       "      <th>45391</th>\n",
       "      <td>2019</td>\n",
       "      <td>2019 Annual</td>\n",
       "      <td>Obesity</td>\n",
       "      <td>Alabama</td>\n",
       "      <td>45.0</td>\n",
       "      <td>36.2</td>\n",
       "      <td>1.38</td>\n",
       "      <td>37.9</td>\n",
       "      <td>34.6</td>\n",
       "      <td>CDC, Behavioral Risk Factor Surveillance System</td>\n",
       "      <td>2018</td>\n",
       "    </tr>\n",
       "    <tr>\n",
       "      <th>45392</th>\n",
       "      <td>2019</td>\n",
       "      <td>2019 Annual</td>\n",
       "      <td>Obesity</td>\n",
       "      <td>Alaska</td>\n",
       "      <td>15.0</td>\n",
       "      <td>29.5</td>\n",
       "      <td>-0.37</td>\n",
       "      <td>32.1</td>\n",
       "      <td>26.9</td>\n",
       "      <td>CDC, Behavioral Risk Factor Surveillance System</td>\n",
       "      <td>2018</td>\n",
       "    </tr>\n",
       "    <tr>\n",
       "      <th>45393</th>\n",
       "      <td>2019</td>\n",
       "      <td>2019 Annual</td>\n",
       "      <td>Obesity</td>\n",
       "      <td>Arizona</td>\n",
       "      <td>15.0</td>\n",
       "      <td>29.5</td>\n",
       "      <td>-0.37</td>\n",
       "      <td>31.2</td>\n",
       "      <td>27.7</td>\n",
       "      <td>CDC, Behavioral Risk Factor Surveillance System</td>\n",
       "      <td>2018</td>\n",
       "    </tr>\n",
       "    <tr>\n",
       "      <th>45394</th>\n",
       "      <td>2019</td>\n",
       "      <td>2019 Annual</td>\n",
       "      <td>Obesity</td>\n",
       "      <td>Arkansas</td>\n",
       "      <td>48.0</td>\n",
       "      <td>37.1</td>\n",
       "      <td>1.62</td>\n",
       "      <td>39.1</td>\n",
       "      <td>35.1</td>\n",
       "      <td>CDC, Behavioral Risk Factor Surveillance System</td>\n",
       "      <td>2018</td>\n",
       "    </tr>\n",
       "    <tr>\n",
       "      <th>45395</th>\n",
       "      <td>2019</td>\n",
       "      <td>2019 Annual</td>\n",
       "      <td>Obesity</td>\n",
       "      <td>California</td>\n",
       "      <td>5.0</td>\n",
       "      <td>25.8</td>\n",
       "      <td>-1.33</td>\n",
       "      <td>26.9</td>\n",
       "      <td>24.8</td>\n",
       "      <td>CDC, Behavioral Risk Factor Surveillance System</td>\n",
       "      <td>2018</td>\n",
       "    </tr>\n",
       "  </tbody>\n",
       "</table>\n",
       "</div>"
      ],
      "text/plain": [
       "       Edition  Report Type Measure Name  State Name  Rank  Value  Score  \\\n",
       "45391     2019  2019 Annual      Obesity     Alabama  45.0   36.2   1.38   \n",
       "45392     2019  2019 Annual      Obesity      Alaska  15.0   29.5  -0.37   \n",
       "45393     2019  2019 Annual      Obesity     Arizona  15.0   29.5  -0.37   \n",
       "45394     2019  2019 Annual      Obesity    Arkansas  48.0   37.1   1.62   \n",
       "45395     2019  2019 Annual      Obesity  California   5.0   25.8  -1.33   \n",
       "\n",
       "       Lower CI  Upper CI                                           Source  \\\n",
       "45391      37.9      34.6  CDC, Behavioral Risk Factor Surveillance System   \n",
       "45392      32.1      26.9  CDC, Behavioral Risk Factor Surveillance System   \n",
       "45393      31.2      27.7  CDC, Behavioral Risk Factor Surveillance System   \n",
       "45394      39.1      35.1  CDC, Behavioral Risk Factor Surveillance System   \n",
       "45395      26.9      24.8  CDC, Behavioral Risk Factor Surveillance System   \n",
       "\n",
       "      Source Year  \n",
       "45391        2018  \n",
       "45392        2018  \n",
       "45393        2018  \n",
       "45394        2018  \n",
       "45395        2018  "
      ]
     },
     "execution_count": 22,
     "metadata": {},
     "output_type": "execute_result"
    }
   ],
   "source": [
    "# Search column with string contains \"Obesity\"\n",
    "obesity_data_df = all_data_df.loc[all_data_df[\"Measure Name\"].str.contains('Obesity', case=False)]\n",
    "#obesity_data_df = all_data_df[all_data_df[\"Measure Name\"].str.contains('Obesity', na=False)]\n",
    "obesity_data_df.head(5)"
   ]
  },
  {
   "cell_type": "code",
   "execution_count": 23,
   "metadata": {},
   "outputs": [
    {
     "data": {
      "text/plain": [
       "Edition         1144\n",
       "Report Type     1144\n",
       "Measure Name    1144\n",
       "State Name      1144\n",
       "Rank             750\n",
       "Value            988\n",
       "Score            750\n",
       "Lower CI        1010\n",
       "Upper CI        1010\n",
       "Source          1144\n",
       "Source Year     1144\n",
       "dtype: int64"
      ]
     },
     "execution_count": 23,
     "metadata": {},
     "output_type": "execute_result"
    }
   ],
   "source": [
    "obesity_data_df.count()"
   ]
  },
  {
   "cell_type": "code",
   "execution_count": 24,
   "metadata": {},
   "outputs": [
    {
     "data": {
      "text/plain": [
       "array(['Obesity', 'Obesity - $25-$49,999', 'Obesity - $50-$74,999',\n",
       "       'Obesity - $75,000 or More', 'Obesity - Ages 18-44',\n",
       "       'Obesity - Ages 45-64', 'Obesity - Ages 65+',\n",
       "       'Obesity - American Indian/Alaska Native', 'Obesity - Asian',\n",
       "       'Obesity - Black', 'Obesity - College Grad', 'Obesity - Female',\n",
       "       'Obesity - Hawaiian/Pacific Islander',\n",
       "       'Obesity - High School Grad', 'Obesity - Hispanic',\n",
       "       'Obesity - Less Than $25,000', 'Obesity - Less Than High School',\n",
       "       'Obesity - Male', 'Obesity - Multiracial', 'Obesity - Other Race',\n",
       "       'Obesity - Some College', 'Obesity - White'], dtype=object)"
      ]
     },
     "execution_count": 24,
     "metadata": {},
     "output_type": "execute_result"
    }
   ],
   "source": [
    "obesity_type = obesity_data_df[\"Measure Name\"].unique()\n",
    "obesity_type"
   ]
  },
  {
   "cell_type": "code",
   "execution_count": 25,
   "metadata": {},
   "outputs": [
    {
     "data": {
      "text/plain": [
       "(61509, 11)"
      ]
     },
     "execution_count": 25,
     "metadata": {},
     "output_type": "execute_result"
    }
   ],
   "source": [
    "all_data_df.shape"
   ]
  },
  {
   "cell_type": "code",
   "execution_count": 26,
   "metadata": {},
   "outputs": [
    {
     "data": {
      "text/plain": [
       "array(['Alaska', 'Alabama', 'United States', 'Arkansas', 'Arizona',\n",
       "       'California', 'Colorado', 'Connecticut', 'District of Columbia',\n",
       "       'Delaware', 'Florida', 'Georgia', 'Hawaii', 'Iowa', 'Idaho',\n",
       "       'Illinois', 'Indiana', 'Kansas', 'Kentucky', 'Louisiana',\n",
       "       'Massachusetts', 'Maryland', 'Maine', 'Michigan', 'Minnesota',\n",
       "       'Missouri', 'Mississippi', 'Montana', 'North Carolina',\n",
       "       'North Dakota', 'Nebraska', 'New Hampshire', 'New Jersey',\n",
       "       'New Mexico', 'Nevada', 'New York', 'Ohio', 'Oklahoma', 'Oregon',\n",
       "       'Pennsylvania', 'Rhode Island', 'South Carolina', 'South Dakota',\n",
       "       'Tennessee', 'Texas', 'Utah', 'Virginia', 'Vermont', 'Washington',\n",
       "       'Wisconsin', 'West Virginia', 'Wyoming'], dtype=object)"
      ]
     },
     "execution_count": 26,
     "metadata": {},
     "output_type": "execute_result"
    }
   ],
   "source": [
    "# # Get list of state\n",
    "all_data_df[\"State Name\"].unique()"
   ]
  },
  {
   "cell_type": "code",
   "execution_count": 27,
   "metadata": {},
   "outputs": [
    {
     "data": {
      "text/html": [
       "<div>\n",
       "<style scoped>\n",
       "    .dataframe tbody tr th:only-of-type {\n",
       "        vertical-align: middle;\n",
       "    }\n",
       "\n",
       "    .dataframe tbody tr th {\n",
       "        vertical-align: top;\n",
       "    }\n",
       "\n",
       "    .dataframe thead th {\n",
       "        text-align: right;\n",
       "    }\n",
       "</style>\n",
       "<table border=\"1\" class=\"dataframe\">\n",
       "  <thead>\n",
       "    <tr style=\"text-align: right;\">\n",
       "      <th></th>\n",
       "    </tr>\n",
       "  </thead>\n",
       "  <tbody>\n",
       "    <tr>\n",
       "      <th>Alaska</th>\n",
       "    </tr>\n",
       "    <tr>\n",
       "      <th>Alabama</th>\n",
       "    </tr>\n",
       "    <tr>\n",
       "      <th>United States</th>\n",
       "    </tr>\n",
       "    <tr>\n",
       "      <th>Arkansas</th>\n",
       "    </tr>\n",
       "    <tr>\n",
       "      <th>Arizona</th>\n",
       "    </tr>\n",
       "  </tbody>\n",
       "</table>\n",
       "</div>"
      ],
      "text/plain": [
       "Empty DataFrame\n",
       "Columns: []\n",
       "Index: [Alaska, Alabama, United States, Arkansas, Arizona]"
      ]
     },
     "execution_count": 27,
     "metadata": {},
     "output_type": "execute_result"
    }
   ],
   "source": [
    "# Build data frame with state as index\n",
    "state_df = pd.DataFrame(index=all_data_df[\"State Name\"].unique())\n",
    "state_df.head()"
   ]
  },
  {
   "cell_type": "code",
   "execution_count": 28,
   "metadata": {},
   "outputs": [
    {
     "data": {
      "text/html": [
       "<div>\n",
       "<style scoped>\n",
       "    .dataframe tbody tr th:only-of-type {\n",
       "        vertical-align: middle;\n",
       "    }\n",
       "\n",
       "    .dataframe tbody tr th {\n",
       "        vertical-align: top;\n",
       "    }\n",
       "\n",
       "    .dataframe thead th {\n",
       "        text-align: right;\n",
       "    }\n",
       "</style>\n",
       "<table border=\"1\" class=\"dataframe\">\n",
       "  <thead>\n",
       "    <tr style=\"text-align: right;\">\n",
       "      <th></th>\n",
       "      <th>Obesity</th>\n",
       "      <th>$25-$49,999</th>\n",
       "      <th>$50-$74,999</th>\n",
       "      <th>$75,000 or More</th>\n",
       "      <th>Ages 18-44</th>\n",
       "      <th>Ages 45-64</th>\n",
       "      <th>Ages 65+</th>\n",
       "      <th>American Indian/Alaska Native</th>\n",
       "      <th>Asian</th>\n",
       "      <th>Black</th>\n",
       "      <th>...</th>\n",
       "      <th>Hawaiian/Pacific Islander</th>\n",
       "      <th>High School Grad</th>\n",
       "      <th>Hispanic</th>\n",
       "      <th>Less Than $25,000</th>\n",
       "      <th>Less Than High School</th>\n",
       "      <th>Male</th>\n",
       "      <th>Multiracial</th>\n",
       "      <th>Other Race</th>\n",
       "      <th>Some College</th>\n",
       "      <th>White</th>\n",
       "    </tr>\n",
       "  </thead>\n",
       "  <tbody>\n",
       "    <tr>\n",
       "      <th>Alaska</th>\n",
       "      <td>29.5</td>\n",
       "      <td>32.8</td>\n",
       "      <td>26.3</td>\n",
       "      <td>31.6</td>\n",
       "      <td>27.5</td>\n",
       "      <td>33.8</td>\n",
       "      <td>27.2</td>\n",
       "      <td>29.1</td>\n",
       "      <td>0.0</td>\n",
       "      <td>0.0</td>\n",
       "      <td>...</td>\n",
       "      <td>0.0</td>\n",
       "      <td>33.7</td>\n",
       "      <td>26.9</td>\n",
       "      <td>31.2</td>\n",
       "      <td>34.1</td>\n",
       "      <td>29.9</td>\n",
       "      <td>32.7</td>\n",
       "      <td>0.0</td>\n",
       "      <td>32.0</td>\n",
       "      <td>29.2</td>\n",
       "    </tr>\n",
       "    <tr>\n",
       "      <th>Alabama</th>\n",
       "      <td>36.2</td>\n",
       "      <td>39.3</td>\n",
       "      <td>41.1</td>\n",
       "      <td>33.4</td>\n",
       "      <td>34.3</td>\n",
       "      <td>41.8</td>\n",
       "      <td>31.8</td>\n",
       "      <td>25.4</td>\n",
       "      <td>0.0</td>\n",
       "      <td>43.8</td>\n",
       "      <td>...</td>\n",
       "      <td>0.0</td>\n",
       "      <td>39.5</td>\n",
       "      <td>30.8</td>\n",
       "      <td>43.1</td>\n",
       "      <td>42.5</td>\n",
       "      <td>34.6</td>\n",
       "      <td>37.2</td>\n",
       "      <td>0.0</td>\n",
       "      <td>41.7</td>\n",
       "      <td>34.2</td>\n",
       "    </tr>\n",
       "  </tbody>\n",
       "</table>\n",
       "<p>2 rows × 22 columns</p>\n",
       "</div>"
      ],
      "text/plain": [
       "         Obesity  $25-$49,999  $50-$74,999  $75,000 or More  Ages 18-44  \\\n",
       "Alaska      29.5         32.8         26.3             31.6        27.5   \n",
       "Alabama     36.2         39.3         41.1             33.4        34.3   \n",
       "\n",
       "         Ages 45-64  Ages 65+  American Indian/Alaska Native  Asian  Black  \\\n",
       "Alaska         33.8      27.2                           29.1    0.0    0.0   \n",
       "Alabama        41.8      31.8                           25.4    0.0   43.8   \n",
       "\n",
       "         ...  Hawaiian/Pacific Islander  High School Grad  Hispanic  \\\n",
       "Alaska   ...                        0.0              33.7      26.9   \n",
       "Alabama  ...                        0.0              39.5      30.8   \n",
       "\n",
       "         Less Than $25,000  Less Than High School  Male  Multiracial  \\\n",
       "Alaska                31.2                   34.1  29.9         32.7   \n",
       "Alabama               43.1                   42.5  34.6         37.2   \n",
       "\n",
       "         Other Race  Some College  White  \n",
       "Alaska          0.0          32.0   29.2  \n",
       "Alabama         0.0          41.7   34.2  \n",
       "\n",
       "[2 rows x 22 columns]"
      ]
     },
     "execution_count": 28,
     "metadata": {},
     "output_type": "execute_result"
    }
   ],
   "source": [
    "# Create dataset called combined_df using State_Name as Index column\n",
    "def get_data(all_data_df,obesity_type,state_df):\n",
    "    for category in obesity_type:\n",
    "        df = all_data_df[(all_data_df[\"Measure Name\"] == category)].loc[:,[\"State Name\",\"Value\"]]   \n",
    "        df1 = df.groupby([\"State Name\"]).mean().add_suffix(\"-\" + category)\n",
    "        state_df = state_df.merge(df1,left_index=True,right_index=True)\n",
    "    return state_df\n",
    "\n",
    "combined_df = get_data(all_data_df,obesity_type,state_df)\n",
    "combined_df.columns = combined_df.columns.str.replace('^Value-Obesity - ',\"\")\n",
    "\n",
    "# Replace all NaN values with 0, Remove State_Name = \"United States\" from dataset, Rename column Obesity\n",
    "combined_df = combined_df.drop([\"United States\"], axis=0)\n",
    "combined_df = combined_df.fillna(0)\n",
    "combined_df.rename(columns={\"Value-Obesity\":\"Obesity\"},inplace=True)\n",
    "combined_df.head(2)                         "
   ]
  },
  {
   "cell_type": "code",
   "execution_count": 29,
   "metadata": {},
   "outputs": [
    {
     "data": {
      "text/plain": [
       "(51, 22)"
      ]
     },
     "execution_count": 29,
     "metadata": {},
     "output_type": "execute_result"
    }
   ],
   "source": [
    "combined_df.shape"
   ]
  },
  {
   "cell_type": "code",
   "execution_count": 30,
   "metadata": {},
   "outputs": [
    {
     "data": {
      "text/html": [
       "<div>\n",
       "<style scoped>\n",
       "    .dataframe tbody tr th:only-of-type {\n",
       "        vertical-align: middle;\n",
       "    }\n",
       "\n",
       "    .dataframe tbody tr th {\n",
       "        vertical-align: top;\n",
       "    }\n",
       "\n",
       "    .dataframe thead th {\n",
       "        text-align: right;\n",
       "    }\n",
       "</style>\n",
       "<table border=\"1\" class=\"dataframe\">\n",
       "  <thead>\n",
       "    <tr style=\"text-align: right;\">\n",
       "      <th></th>\n",
       "      <th>State Name</th>\n",
       "      <th>Obesity</th>\n",
       "      <th>$25-$49,999</th>\n",
       "      <th>$50-$74,999</th>\n",
       "      <th>$75,000 or More</th>\n",
       "      <th>Ages 18-44</th>\n",
       "      <th>Ages 45-64</th>\n",
       "      <th>Ages 65+</th>\n",
       "      <th>American Indian/Alaska Native</th>\n",
       "      <th>Asian</th>\n",
       "      <th>...</th>\n",
       "      <th>Hawaiian/Pacific Islander</th>\n",
       "      <th>High School Grad</th>\n",
       "      <th>Hispanic</th>\n",
       "      <th>Less Than $25,000</th>\n",
       "      <th>Less Than High School</th>\n",
       "      <th>Male</th>\n",
       "      <th>Multiracial</th>\n",
       "      <th>Other Race</th>\n",
       "      <th>Some College</th>\n",
       "      <th>White</th>\n",
       "    </tr>\n",
       "  </thead>\n",
       "  <tbody>\n",
       "    <tr>\n",
       "      <th>0</th>\n",
       "      <td>Alaska</td>\n",
       "      <td>29.5</td>\n",
       "      <td>32.8</td>\n",
       "      <td>26.3</td>\n",
       "      <td>31.6</td>\n",
       "      <td>27.5</td>\n",
       "      <td>33.8</td>\n",
       "      <td>27.2</td>\n",
       "      <td>29.1</td>\n",
       "      <td>0.0</td>\n",
       "      <td>...</td>\n",
       "      <td>0.0</td>\n",
       "      <td>33.7</td>\n",
       "      <td>26.9</td>\n",
       "      <td>31.2</td>\n",
       "      <td>34.1</td>\n",
       "      <td>29.9</td>\n",
       "      <td>32.7</td>\n",
       "      <td>0.0</td>\n",
       "      <td>32.0</td>\n",
       "      <td>29.2</td>\n",
       "    </tr>\n",
       "    <tr>\n",
       "      <th>1</th>\n",
       "      <td>Alabama</td>\n",
       "      <td>36.2</td>\n",
       "      <td>39.3</td>\n",
       "      <td>41.1</td>\n",
       "      <td>33.4</td>\n",
       "      <td>34.3</td>\n",
       "      <td>41.8</td>\n",
       "      <td>31.8</td>\n",
       "      <td>25.4</td>\n",
       "      <td>0.0</td>\n",
       "      <td>...</td>\n",
       "      <td>0.0</td>\n",
       "      <td>39.5</td>\n",
       "      <td>30.8</td>\n",
       "      <td>43.1</td>\n",
       "      <td>42.5</td>\n",
       "      <td>34.6</td>\n",
       "      <td>37.2</td>\n",
       "      <td>0.0</td>\n",
       "      <td>41.7</td>\n",
       "      <td>34.2</td>\n",
       "    </tr>\n",
       "  </tbody>\n",
       "</table>\n",
       "<p>2 rows × 23 columns</p>\n",
       "</div>"
      ],
      "text/plain": [
       "  State Name  Obesity  $25-$49,999  $50-$74,999  $75,000 or More  Ages 18-44  \\\n",
       "0     Alaska     29.5         32.8         26.3             31.6        27.5   \n",
       "1    Alabama     36.2         39.3         41.1             33.4        34.3   \n",
       "\n",
       "   Ages 45-64  Ages 65+  American Indian/Alaska Native  Asian  ...  \\\n",
       "0        33.8      27.2                           29.1    0.0  ...   \n",
       "1        41.8      31.8                           25.4    0.0  ...   \n",
       "\n",
       "   Hawaiian/Pacific Islander  High School Grad  Hispanic  Less Than $25,000  \\\n",
       "0                        0.0              33.7      26.9               31.2   \n",
       "1                        0.0              39.5      30.8               43.1   \n",
       "\n",
       "   Less Than High School  Male  Multiracial  Other Race  Some College  White  \n",
       "0                   34.1  29.9         32.7         0.0          32.0   29.2  \n",
       "1                   42.5  34.6         37.2         0.0          41.7   34.2  \n",
       "\n",
       "[2 rows x 23 columns]"
      ]
     },
     "execution_count": 30,
     "metadata": {},
     "output_type": "execute_result"
    }
   ],
   "source": [
    "# Create combined2_df DataFrame using default index (Total number of States = 52)\n",
    "combined2_df = combined_df.reset_index()\n",
    "combined2_df.rename(columns={\"index\":\"State Name\"},inplace=True)\n",
    "combined2_df.head(2)"
   ]
  },
  {
   "cell_type": "code",
   "execution_count": 31,
   "metadata": {},
   "outputs": [],
   "source": [
    "# Save file to .csv\n",
    "combined_df.to_csv(r'Data_Sources\\age51_obesity.csv')"
   ]
  },
  {
   "cell_type": "code",
   "execution_count": 32,
   "metadata": {},
   "outputs": [
    {
     "data": {
      "text/plain": [
       "(50, 22)"
      ]
     },
     "execution_count": 32,
     "metadata": {},
     "output_type": "execute_result"
    }
   ],
   "source": [
    "# Clean datastates and print cleand_data out to .csv for analysis\n",
    "# Drop rows (states) : \"District of Columbia\"\n",
    "\n",
    "scope_df = combined_df.drop([\"District of Columbia\"], axis=0)\n",
    "\n",
    "# Replace all NaN values with 0 \n",
    "scope_df = scope_df.fillna(0)\n",
    "scope_df.shape"
   ]
  },
  {
   "cell_type": "code",
   "execution_count": 33,
   "metadata": {},
   "outputs": [
    {
     "data": {
      "text/html": [
       "<div>\n",
       "<style scoped>\n",
       "    .dataframe tbody tr th:only-of-type {\n",
       "        vertical-align: middle;\n",
       "    }\n",
       "\n",
       "    .dataframe tbody tr th {\n",
       "        vertical-align: top;\n",
       "    }\n",
       "\n",
       "    .dataframe thead th {\n",
       "        text-align: right;\n",
       "    }\n",
       "</style>\n",
       "<table border=\"1\" class=\"dataframe\">\n",
       "  <thead>\n",
       "    <tr style=\"text-align: right;\">\n",
       "      <th></th>\n",
       "      <th>Obesity</th>\n",
       "      <th>$25-$49,999</th>\n",
       "      <th>$50-$74,999</th>\n",
       "      <th>$75,000 or More</th>\n",
       "      <th>Ages 18-44</th>\n",
       "      <th>Ages 45-64</th>\n",
       "      <th>Ages 65+</th>\n",
       "      <th>American Indian/Alaska Native</th>\n",
       "      <th>Asian</th>\n",
       "      <th>Black</th>\n",
       "      <th>...</th>\n",
       "      <th>Hawaiian/Pacific Islander</th>\n",
       "      <th>High School Grad</th>\n",
       "      <th>Hispanic</th>\n",
       "      <th>Less Than $25,000</th>\n",
       "      <th>Less Than High School</th>\n",
       "      <th>Male</th>\n",
       "      <th>Multiracial</th>\n",
       "      <th>Other Race</th>\n",
       "      <th>Some College</th>\n",
       "      <th>White</th>\n",
       "    </tr>\n",
       "  </thead>\n",
       "  <tbody>\n",
       "    <tr>\n",
       "      <th>Alaska</th>\n",
       "      <td>29.5</td>\n",
       "      <td>32.8</td>\n",
       "      <td>26.3</td>\n",
       "      <td>31.6</td>\n",
       "      <td>27.5</td>\n",
       "      <td>33.8</td>\n",
       "      <td>27.2</td>\n",
       "      <td>29.1</td>\n",
       "      <td>0.0</td>\n",
       "      <td>0.0</td>\n",
       "      <td>...</td>\n",
       "      <td>0.0</td>\n",
       "      <td>33.7</td>\n",
       "      <td>26.9</td>\n",
       "      <td>31.2</td>\n",
       "      <td>34.1</td>\n",
       "      <td>29.9</td>\n",
       "      <td>32.7</td>\n",
       "      <td>0.0</td>\n",
       "      <td>32.0</td>\n",
       "      <td>29.2</td>\n",
       "    </tr>\n",
       "    <tr>\n",
       "      <th>Alabama</th>\n",
       "      <td>36.2</td>\n",
       "      <td>39.3</td>\n",
       "      <td>41.1</td>\n",
       "      <td>33.4</td>\n",
       "      <td>34.3</td>\n",
       "      <td>41.8</td>\n",
       "      <td>31.8</td>\n",
       "      <td>25.4</td>\n",
       "      <td>0.0</td>\n",
       "      <td>43.8</td>\n",
       "      <td>...</td>\n",
       "      <td>0.0</td>\n",
       "      <td>39.5</td>\n",
       "      <td>30.8</td>\n",
       "      <td>43.1</td>\n",
       "      <td>42.5</td>\n",
       "      <td>34.6</td>\n",
       "      <td>37.2</td>\n",
       "      <td>0.0</td>\n",
       "      <td>41.7</td>\n",
       "      <td>34.2</td>\n",
       "    </tr>\n",
       "  </tbody>\n",
       "</table>\n",
       "<p>2 rows × 22 columns</p>\n",
       "</div>"
      ],
      "text/plain": [
       "         Obesity  $25-$49,999  $50-$74,999  $75,000 or More  Ages 18-44  \\\n",
       "Alaska      29.5         32.8         26.3             31.6        27.5   \n",
       "Alabama     36.2         39.3         41.1             33.4        34.3   \n",
       "\n",
       "         Ages 45-64  Ages 65+  American Indian/Alaska Native  Asian  Black  \\\n",
       "Alaska         33.8      27.2                           29.1    0.0    0.0   \n",
       "Alabama        41.8      31.8                           25.4    0.0   43.8   \n",
       "\n",
       "         ...  Hawaiian/Pacific Islander  High School Grad  Hispanic  \\\n",
       "Alaska   ...                        0.0              33.7      26.9   \n",
       "Alabama  ...                        0.0              39.5      30.8   \n",
       "\n",
       "         Less Than $25,000  Less Than High School  Male  Multiracial  \\\n",
       "Alaska                31.2                   34.1  29.9         32.7   \n",
       "Alabama               43.1                   42.5  34.6         37.2   \n",
       "\n",
       "         Other Race  Some College  White  \n",
       "Alaska          0.0          32.0   29.2  \n",
       "Alabama         0.0          41.7   34.2  \n",
       "\n",
       "[2 rows x 22 columns]"
      ]
     },
     "execution_count": 33,
     "metadata": {},
     "output_type": "execute_result"
    }
   ],
   "source": [
    "scope_df.head(2)"
   ]
  },
  {
   "cell_type": "code",
   "execution_count": 34,
   "metadata": {},
   "outputs": [
    {
     "data": {
      "text/html": [
       "<div>\n",
       "<style scoped>\n",
       "    .dataframe tbody tr th:only-of-type {\n",
       "        vertical-align: middle;\n",
       "    }\n",
       "\n",
       "    .dataframe tbody tr th {\n",
       "        vertical-align: top;\n",
       "    }\n",
       "\n",
       "    .dataframe thead th {\n",
       "        text-align: right;\n",
       "    }\n",
       "</style>\n",
       "<table border=\"1\" class=\"dataframe\">\n",
       "  <thead>\n",
       "    <tr style=\"text-align: right;\">\n",
       "      <th></th>\n",
       "      <th>State Name</th>\n",
       "      <th>Obesity</th>\n",
       "      <th>$25-$49,999</th>\n",
       "      <th>$50-$74,999</th>\n",
       "      <th>$75,000 or More</th>\n",
       "      <th>Ages 18-44</th>\n",
       "      <th>Ages 45-64</th>\n",
       "      <th>Ages 65+</th>\n",
       "      <th>American Indian/Alaska Native</th>\n",
       "      <th>Asian</th>\n",
       "      <th>...</th>\n",
       "      <th>Hawaiian/Pacific Islander</th>\n",
       "      <th>High School Grad</th>\n",
       "      <th>Hispanic</th>\n",
       "      <th>Less Than $25,000</th>\n",
       "      <th>Less Than High School</th>\n",
       "      <th>Male</th>\n",
       "      <th>Multiracial</th>\n",
       "      <th>Other Race</th>\n",
       "      <th>Some College</th>\n",
       "      <th>White</th>\n",
       "    </tr>\n",
       "  </thead>\n",
       "  <tbody>\n",
       "    <tr>\n",
       "      <th>0</th>\n",
       "      <td>Alaska</td>\n",
       "      <td>29.5</td>\n",
       "      <td>32.8</td>\n",
       "      <td>26.3</td>\n",
       "      <td>31.6</td>\n",
       "      <td>27.5</td>\n",
       "      <td>33.8</td>\n",
       "      <td>27.2</td>\n",
       "      <td>29.1</td>\n",
       "      <td>0.0</td>\n",
       "      <td>...</td>\n",
       "      <td>0.0</td>\n",
       "      <td>33.7</td>\n",
       "      <td>26.9</td>\n",
       "      <td>31.2</td>\n",
       "      <td>34.1</td>\n",
       "      <td>29.9</td>\n",
       "      <td>32.7</td>\n",
       "      <td>0.0</td>\n",
       "      <td>32.0</td>\n",
       "      <td>29.2</td>\n",
       "    </tr>\n",
       "    <tr>\n",
       "      <th>1</th>\n",
       "      <td>Alabama</td>\n",
       "      <td>36.2</td>\n",
       "      <td>39.3</td>\n",
       "      <td>41.1</td>\n",
       "      <td>33.4</td>\n",
       "      <td>34.3</td>\n",
       "      <td>41.8</td>\n",
       "      <td>31.8</td>\n",
       "      <td>25.4</td>\n",
       "      <td>0.0</td>\n",
       "      <td>...</td>\n",
       "      <td>0.0</td>\n",
       "      <td>39.5</td>\n",
       "      <td>30.8</td>\n",
       "      <td>43.1</td>\n",
       "      <td>42.5</td>\n",
       "      <td>34.6</td>\n",
       "      <td>37.2</td>\n",
       "      <td>0.0</td>\n",
       "      <td>41.7</td>\n",
       "      <td>34.2</td>\n",
       "    </tr>\n",
       "  </tbody>\n",
       "</table>\n",
       "<p>2 rows × 23 columns</p>\n",
       "</div>"
      ],
      "text/plain": [
       "  State Name  Obesity  $25-$49,999  $50-$74,999  $75,000 or More  Ages 18-44  \\\n",
       "0     Alaska     29.5         32.8         26.3             31.6        27.5   \n",
       "1    Alabama     36.2         39.3         41.1             33.4        34.3   \n",
       "\n",
       "   Ages 45-64  Ages 65+  American Indian/Alaska Native  Asian  ...  \\\n",
       "0        33.8      27.2                           29.1    0.0  ...   \n",
       "1        41.8      31.8                           25.4    0.0  ...   \n",
       "\n",
       "   Hawaiian/Pacific Islander  High School Grad  Hispanic  Less Than $25,000  \\\n",
       "0                        0.0              33.7      26.9               31.2   \n",
       "1                        0.0              39.5      30.8               43.1   \n",
       "\n",
       "   Less Than High School  Male  Multiracial  Other Race  Some College  White  \n",
       "0                   34.1  29.9         32.7         0.0          32.0   29.2  \n",
       "1                   42.5  34.6         37.2         0.0          41.7   34.2  \n",
       "\n",
       "[2 rows x 23 columns]"
      ]
     },
     "execution_count": 34,
     "metadata": {},
     "output_type": "execute_result"
    }
   ],
   "source": [
    "# Scope2_df.rename(columns={\"index\":\"State Name\"},inplace=True)\n",
    "scope2_df = combined_df.reset_index()\n",
    "scope2_df.rename(columns={\"index\":\"State Name\"},inplace=True)\n",
    "scope2_df.head(2)"
   ]
  },
  {
   "cell_type": "code",
   "execution_count": 35,
   "metadata": {},
   "outputs": [
    {
     "data": {
      "image/png": "[encoded data removed]",
      "text/plain": [
       "<Figure size 432x288 with 1 Axes>"
      ]
     },
     "metadata": {
      "needs_background": "light"
     },
     "output_type": "display_data"
    },
    {
     "name": "stdout",
     "output_type": "stream",
     "text": [
      "Mean value is 31.426\n",
      "Median value is 30.9\n",
      "Mode is ModeResult(mode=array([29.5]), count=array([3]))\n",
      "Variance using Numpy module is 14.358724000000002\n",
      "Standard deviation using Numpy module is 3.7892906987983914\n",
      "NormaltestResult(statistic=0.664347823246355, pvalue=0.7173625543191802)\n",
      "z-scores values are [-0.50827454  1.25986639  1.49737786 -0.50827454 -1.48471058 -2.25002532\n",
      " -1.06246797  0.54733199 -0.19159258  0.28343035 -1.72222205  1.02235492\n",
      " -0.79856634  0.09869921  0.70567296  0.78484345  1.36542704  1.41820737\n",
      " -1.51110075 -0.13881226 -0.27076307  0.41538117 -0.34993356  0.94318443\n",
      "  2.13074178 -1.19441879  0.41538117  0.9695746   0.70567296 -0.48188438\n",
      " -1.53749091  0.23065003 -0.50827454 -1.00968764  0.6792828   0.89040411\n",
      " -0.40271389 -0.13881226 -0.98329748  0.75845329 -0.34993356  0.78484345\n",
      "  0.89040411 -0.98329748 -0.29715324 -1.03607781 -0.71939585  0.15147954\n",
      "  2.13074178 -0.64022536]\n"
     ]
    }
   ],
   "source": [
    "# Determine which measure of central tendency is most appropriate to describe the dataset\n",
    "# Dataset scope_df contains 50 states in the USA\n",
    "obesity_value = scope_df[\"Obesity\"]\n",
    "plt.hist(scope_df['Obesity'])\n",
    "plt.xlabel('Obesity Rate')\n",
    "plt.ylabel('Counts')\n",
    "plt.show()\n",
    "\n",
    "mean_numpy = np.mean(obesity_value)\n",
    "median_numpy = np.median(obesity_value)\n",
    "mode_scipy = sts.mode(obesity_value)\n",
    "var_numpy = np.var(obesity_value,ddof=0)\n",
    "sd_numpy = np.std(obesity_value,ddof=0)\n",
    "z_scipy = sts.zscore(obesity_value)\n",
    "\n",
    "print(f\"Mean value is {mean_numpy}\")\n",
    "print(f\"Median value is {median_numpy}\")\n",
    "print(f\"Mode is {mode_scipy}\")\n",
    "print(f\"Variance using Numpy module is {var_numpy}\")\n",
    "print(f\"Standard deviation using Numpy module is {sd_numpy}\")\n",
    "\n",
    "# Hypothesis testing using P-value\n",
    "# The result is higher or equal than 0.5 meaning our hypothesis is True\n",
    "print(sts.normaltest(obesity_value.sample(50)))\n",
    "\n",
    "print(f\"z-scores values are {z_scipy}\")"
   ]
  },
  {
   "cell_type": "markdown",
   "metadata": {},
   "source": [
    "The result is prove the hypothesis is true (pvalue=0.7173625543191802)\n",
    "\n",
    "Results:\n",
    "Mean value is 31.426\n",
    "Median value is 30\n",
    "Mode is ModeResult(mode=array([29.5]), count=array([3]))\n",
    "Variance using Numpy module is 14.358724\n",
    "Standard deviation using Numpy module is 3.7892906987983914\n",
    "NormaltestResult(statistic=0.6643478232463549, pvalue=0.7173625543191802)\n",
    "z-scores values are [-0.50827454  1.25986639  1.49737786 -0.50827454 -1.48471058 -2.25002532\n",
    " -1.06246797  0.54733199 -0.19159258  0.28343035 -1.72222205  1.02235492\n",
    " -0.79856634  0.09869921  0.70567296  0.78484345  1.36542704  1.41820737\n",
    " -1.51110075 -0.13881226 -0.27076307  0.41538117 -0.34993356  0.94318443\n",
    "  2.13074178 -1.19441879  0.41538117  0.9695746   0.70567296 -0.48188438\n",
    " -1.53749091  0.23065003 -0.50827454 -1.00968764  0.6792828   0.89040411\n",
    " -0.40271389 -0.13881226 -0.98329748  0.75845329 -0.34993356  0.78484345\n",
    "  0.89040411 -0.98329748 -0.29715324 -1.03607781 -0.71939585  0.15147954\n",
    "  2.13074178 -0.64022536]\n"
   ]
  },
  {
   "cell_type": "code",
   "execution_count": 36,
   "metadata": {},
   "outputs": [
    {
     "data": {
      "image/png": "[encoded data removed]",
      "text/plain": [
       "<Figure size 432x288 with 1 Axes>"
      ]
     },
     "metadata": {
      "needs_background": "light"
     },
     "output_type": "display_data"
    }
   ],
   "source": [
    "# Plot stack bar hightlight the income range to Obesity rates per state\n",
    "axis = scope_df[['$25-$49,999','$50-$74,999','$75,000 or More']].plot(kind=\"bar\", stacked=True)\n",
    "fig = axis.get_figure()"
   ]
  },
  {
   "cell_type": "code",
   "execution_count": 37,
   "metadata": {},
   "outputs": [
    {
     "data": {
      "image/png": "[encoded data removed]",
      "text/plain": [
       "<Figure size 432x288 with 1 Axes>"
      ]
     },
     "metadata": {
      "needs_background": "light"
     },
     "output_type": "display_data"
    }
   ],
   "source": [
    "# Plot stack bar between Genders(Male vs Female) per state\n",
    "axis = scope_df[['Male','Female']].plot(kind=\"bar\", stacked=True)\n",
    "fig = axis.get_figure()"
   ]
  },
  {
   "cell_type": "code",
   "execution_count": 46,
   "metadata": {
    "scrolled": true
   },
   "outputs": [
    {
     "name": "stdout",
     "output_type": "stream",
     "text": [
      "<class 'pandas.core.frame.DataFrame'>\n",
      "Index: 50 entries, Alaska to Wyoming\n",
      "Data columns (total 22 columns):\n",
      " #   Column                         Non-Null Count  Dtype  \n",
      "---  ------                         --------------  -----  \n",
      " 0   Obesity                        50 non-null     float64\n",
      " 1   $25-$49,999                    50 non-null     float64\n",
      " 2   $50-$74,999                    50 non-null     float64\n",
      " 3   $75,000 or More                50 non-null     float64\n",
      " 4   Ages 18-44                     50 non-null     float64\n",
      " 5   Ages 45-64                     50 non-null     float64\n",
      " 6   Ages 65+                       50 non-null     float64\n",
      " 7   American Indian/Alaska Native  50 non-null     float64\n",
      " 8   Asian                          50 non-null     float64\n",
      " 9   Black                          50 non-null     float64\n",
      " 10  College Grad                   50 non-null     float64\n",
      " 11  Female                         50 non-null     float64\n",
      " 12  Hawaiian/Pacific Islander      50 non-null     float64\n",
      " 13  High School Grad               50 non-null     float64\n",
      " 14  Hispanic                       50 non-null     float64\n",
      " 15  Less Than $25,000              50 non-null     float64\n",
      " 16  Less Than High School          50 non-null     float64\n",
      " 17  Male                           50 non-null     float64\n",
      " 18  Multiracial                    50 non-null     float64\n",
      " 19  Other Race                     50 non-null     float64\n",
      " 20  Some College                   50 non-null     float64\n",
      " 21  White                          50 non-null     float64\n",
      "dtypes: float64(22)\n",
      "memory usage: 11.5+ KB\n"
     ]
    }
   ],
   "source": [
    "scope_df.info()"
   ]
  },
  {
   "cell_type": "code",
   "execution_count": 39,
   "metadata": {},
   "outputs": [
    {
     "data": {
      "image/png": "[encoded data removed]",
      "text/plain": [
       "<Figure size 432x288 with 1 Axes>"
      ]
     },
     "metadata": {},
     "output_type": "display_data"
    }
   ],
   "source": [
    "# Group our data based on age groups on pie chart\n",
    "group1 = scope_df[\"Ages 18-44\"].mean()\n",
    "group2 = scope_df[\"Ages 45-64\"].mean()\n",
    "group3 = scope_df[\"Ages 65+\"].mean()\n",
    "age_avg = [group1, group2,group3]\n",
    "age = [\"Ages 18-44\",\"Ages 45-64\",\"Ages 65+\"]\n",
    "colors = [\"royalblue\", \"lightskyblue\",\"dodgerblue\"]\n",
    "explode = (0,0,0)\n",
    "plt.title(\"Obesity Data by Age Groups\")\n",
    "plt.pie(age_avg, explode=explode, labels=age, colors=colors,\n",
    "        autopct=\"%1.1f%%\", shadow=True, startangle=90)\n",
    "plt.axis(\"equal\")\n",
    "plt.show()"
   ]
  },
  {
   "cell_type": "code",
   "execution_count": 40,
   "metadata": {},
   "outputs": [
    {
     "name": "stdout",
     "output_type": "stream",
     "text": [
      "The correlation between 45-64 years to obesity rate is 0.96\n"
     ]
    },
    {
     "data": {
      "image/png": "[encoded data removed]",
      "text/plain": [
       "<Figure size 432x288 with 1 Axes>"
      ]
     },
     "metadata": {
      "needs_background": "light"
     },
     "output_type": "display_data"
    }
   ],
   "source": [
    "# Scatter and calculate Correlation plots based on age group\n",
    "young_age = scope_df[\"Ages 18-44\"]\n",
    "mid_age = scope_df[\"Ages 45-64\"]\n",
    "elder_age = scope_df[\"Ages 65+\"]\n",
    "obesity_avg = scope_df[\"Obesity\"]\n",
    "correlation = sts.pearsonr(mid_age,obesity_avg)\n",
    "plt.scatter(young_age,obesity_avg, c=\"royalblue\")\n",
    "plt.scatter(mid_age,obesity_avg,c=\"lightskyblue\")\n",
    "plt.scatter(elder_age,obesity_avg,c=\"dodgerblue\")\n",
    "plt.title(\"Obesity by Age Groups\")\n",
    "plt.xlabel(\"Rate by Age Groups\")\n",
    "plt.ylabel(\"Obesity Rate (%)\")\n",
    "print(f\"The correlation between 45-64 years to obesity rate is {round(correlation[0],2)}\")\n",
    "plt.show()"
   ]
  },
  {
   "cell_type": "markdown",
   "metadata": {},
   "source": [
    "The correlation between both factors is 0.96. This is indicating almost perfect positive correlation."
   ]
  },
  {
   "cell_type": "code",
   "execution_count": 41,
   "metadata": {},
   "outputs": [
    {
     "data": {
      "image/png": "[encoded data removed]",
      "text/plain": [
       "<Figure size 432x288 with 1 Axes>"
      ]
     },
     "metadata": {},
     "output_type": "display_data"
    }
   ],
   "source": [
    "# Group our data based on gender 'Male' and 'Female' on pie chart\n",
    "male_group = scope_df[\"Male\"].mean()\n",
    "female_group = scope_df[\"Female\"].mean()\n",
    "gender_avg = [male_group, female_group]\n",
    "gender = [\"Male\",\"Female\"]\n",
    "colors = [\"royalblue\", \"skyblue\"]\n",
    "explode = (0, 0.05)\n",
    "plt.title(\"Average Obesity Data by Gender\")\n",
    "plt.pie(gender_avg, explode=explode, labels=gender, colors=colors,\n",
    "        autopct=\"%1.1f%%\", shadow=True, startangle=90)\n",
    "plt.axis(\"equal\")\n",
    "plt.show()"
   ]
  },
  {
   "cell_type": "code",
   "execution_count": 42,
   "metadata": {},
   "outputs": [
    {
     "name": "stdout",
     "output_type": "stream",
     "text": [
      "The correlation between Male to Obesity Rate is 0.94\n"
     ]
    },
    {
     "data": {
      "image/png": "[encoded data removed]",
      "text/plain": [
       "<Figure size 432x288 with 1 Axes>"
      ]
     },
     "metadata": {
      "needs_background": "light"
     },
     "output_type": "display_data"
    }
   ],
   "source": [
    "# Scatter and calculate Correlation plots based on age group\n",
    "male = scope_df[\"Male\"]\n",
    "female = scope_df[\"Female\"]\n",
    "obesity_avg = scope_df[\"Obesity\"]\n",
    "correlation = sts.pearsonr(male,obesity_avg)\n",
    "plt.scatter(male,obesity_avg, c=\"royalblue\")\n",
    "plt.scatter(female,obesity_avg, c=\"skyblue\")\n",
    "plt.title(\"Obesity Rate by Gender\")\n",
    "plt.xlabel(\"Rate by Gender\")\n",
    "plt.ylabel(\"Obesity Rate (%)\")\n",
    "print(f\"The correlation between Male to Obesity Rate is {round(correlation[0],2)}\")\n",
    "plt.show()"
   ]
  },
  {
   "cell_type": "code",
   "execution_count": 43,
   "metadata": {},
   "outputs": [
    {
     "data": {
      "text/plain": [
       "Text(0, 0.5, 'Obesity Rate (%)')"
      ]
     },
     "execution_count": 43,
     "metadata": {},
     "output_type": "execute_result"
    },
    {
     "data": {
      "image/png": "[encoded data removed]",
      "text/plain": [
       "<Figure size 432x288 with 1 Axes>"
      ]
     },
     "metadata": {
      "needs_background": "light"
     },
     "output_type": "display_data"
    }
   ],
   "source": [
    "# Plot bar chart comparing (Male vs Female)\n",
    "scope2_df.plot(x='State Name', y=['Male','Female'], kind='bar' )\n",
    "plt.title(\"Obesity by Gender\")\n",
    "plt.xlabel('State')\n",
    "plt.ylabel('Obesity Rate (%)')"
   ]
  },
  {
   "cell_type": "code",
   "execution_count": 44,
   "metadata": {},
   "outputs": [
    {
     "data": {
      "image/png": "[encoded data removed]",
      "text/plain": [
       "<Figure size 432x288 with 1 Axes>"
      ]
     },
     "metadata": {},
     "output_type": "display_data"
    }
   ],
   "source": [
    "# Plot data based on race\n",
    "black_gr = scope_df[\"Black\"].mean()\n",
    "hispanic_gr = scope_df[\"Hispanic\"].mean()\n",
    "multi_gr = scope_df[\"Multiracial\"].mean()\n",
    "white_gr = scope_df[\"White\"].mean()\n",
    "asian_gr = scope_df[\"Asian\"].mean()\n",
    "hawai_gr = scope_df[\"Hawaiian/Pacific Islander\"].mean()\n",
    "other_gr = scope_df[\"Other Race\"].mean()\n",
    "\n",
    "ethinicity_avg = [black_gr, hispanic_gr, multi_gr, white_gr, asian_gr, hawai_gr, other_gr]\n",
    "ethinic = [\"Black\",\"Hispanic\",\"Multiracial\",\"White\", \"Asian\",\"Hawaiian/Pacific Islander\",\"Other Race\"]\n",
    "colors = [\"teal\", \"lightskyblue\", \"magenta\", \"khaki\", \"dodgerblue\", \"cyan\",\"gold\"]\n",
    "explode = (0, 0.05,0,0,0,0,0)\n",
    "plt.title(\"Average Obesity Data by Ethinicity\")\n",
    "plt.pie(ethinicity_avg, explode=explode, labels=ethinic, colors=colors,\n",
    "        autopct=\"%1.1f%%\", shadow=False, startangle=15)\n",
    "plt.axis(\"equal\")\n",
    "plt.show()"
   ]
  },
  {
   "cell_type": "code",
   "execution_count": 45,
   "metadata": {},
   "outputs": [
    {
     "data": {
      "image/png": "[encoded data removed]",
      "text/plain": [
       "<Figure size 432x288 with 1 Axes>"
      ]
     },
     "metadata": {},
     "output_type": "display_data"
    }
   ],
   "source": [
    "# Plot data based upon income on pie chart\n",
    "lowest = scope_df[\"Less Than $25,000\"].mean()\n",
    "second_lowest = scope_df[\"$25-$49,999\"].mean()\n",
    "mid = scope_df[\"$50-$74,999\"].mean()\n",
    "high = scope_df[\"$75,000 or More\"].mean()\n",
    "\n",
    "income_avg = [lowest, second_lowest, mid, high]\n",
    "income = [\"Less Than $25,000\",\"$25-$49,999\",\"$50-$74,999\",\"$75,000 or More\"]\n",
    "colors = [\"slateblue\", \"blueviolet\", \"plum\", \"thistle\"]\n",
    "explode = (0, 0.05,0,0)\n",
    "plt.title(\"Average Obesity Data by Income\")\n",
    "plt.pie(income_avg, explode=explode, labels=income, colors=colors,\n",
    "        autopct=\"%1.1f%%\", shadow=False, startangle=45)\n",
    "plt.axis(\"equal\")\n",
    "plt.show()"
   ]
  }
 ],
 "metadata": {
  "kernelspec": {
   "display_name": "Python [conda env:PythonData]",
   "language": "python",
   "name": "conda-env-PythonData-py"
  },
  "language_info": {
   "codemirror_mode": {
    "name": "ipython",
    "version": 3
   },
   "file_extension": ".py",
   "mimetype": "text/x-python",
   "name": "python",
   "nbconvert_exporter": "python",
   "pygments_lexer": "ipython3",
   "version": "3.6.10"
  }
 },
 "nbformat": 4,
 "nbformat_minor": 5
}
