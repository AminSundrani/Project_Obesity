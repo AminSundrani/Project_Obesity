{
 "cells": [
  {
   "cell_type": "markdown",
   "metadata": {},
   "source": [
    "# Obesity and Mode of Transport to Work."
   ]
  },
  {
   "cell_type": "markdown",
   "metadata": {},
   "source": [
    "The aim of this study was to a realtion between various modes of transport to work and obesity.\n",
    "\n",
    "Based on the study conducted by Li Ming Wen and Chris Rissel on\n",
    "\n",
    "Inverse associations between cycling to work, public transport, and overweight and obesity: Findings from a population based study in Australia\n",
    "link : https://www.sciencedirect.com/science/article/abs/pii/S0091743507003714\n",
    "Health Promotion Service, Sydney South West Area Health Service, Level 9, King George V Building, Missenden Road, Camperdown, NSW 2050, Australia\n",
    "\n",
    "1.Population using public transport to work were significatly less likely to be overweight and obese.\n",
    "\n",
    "2.It is clearly visibly that there is a moderate negative correlation between the use if public transport and the obesity rate.\n",
    "\n",
    "3.It is clearly visibly that there is a strong positive correlation between the use of personal vehicle and the obesity rate."
   ]
  },
  {
   "cell_type": "code",
   "execution_count": 1,
   "metadata": {
    "scrolled": true
   },
   "outputs": [],
   "source": [
    "import pandas as pd\n",
    "from functools import reduce\n",
    "import matplotlib.pyplot as plt\n",
    "from scipy.stats import linregress\n",
    "from sklearn import datasets\n",
    "import numpy as np\n",
    "import scipy.stats as st\n"
   ]
  },
  {
   "cell_type": "code",
   "execution_count": 2,
   "metadata": {},
   "outputs": [],
   "source": [
    "# path to state name csv\n",
    "path1 = \"Project_data/state-abbrevs.csv\"\n",
    "# path to commute data\n",
    "path2 = \"Project_data/commute_data.csv\" "
   ]
  },
  {
   "cell_type": "code",
   "execution_count": 3,
   "metadata": {},
   "outputs": [
    {
     "data": {
      "text/html": [
       "<div>\n",
       "<style scoped>\n",
       "    .dataframe tbody tr th:only-of-type {\n",
       "        vertical-align: middle;\n",
       "    }\n",
       "\n",
       "    .dataframe tbody tr th {\n",
       "        vertical-align: top;\n",
       "    }\n",
       "\n",
       "    .dataframe thead th {\n",
       "        text-align: right;\n",
       "    }\n",
       "</style>\n",
       "<table border=\"1\" class=\"dataframe\">\n",
       "  <thead>\n",
       "    <tr style=\"text-align: right;\">\n",
       "      <th></th>\n",
       "      <th>State</th>\n",
       "      <th>Bicycle</th>\n",
       "      <th>Walked</th>\n",
       "      <th>Taxi, motorcycle, or other</th>\n",
       "      <th>Public transportation</th>\n",
       "      <th>Worked at home</th>\n",
       "      <th>Carpool</th>\n",
       "      <th>Drove alone</th>\n",
       "    </tr>\n",
       "  </thead>\n",
       "  <tbody>\n",
       "    <tr>\n",
       "      <th>0</th>\n",
       "      <td>Alabama</td>\n",
       "      <td>0.14%</td>\n",
       "      <td>1.23%</td>\n",
       "      <td>0.98%</td>\n",
       "      <td>0.42%</td>\n",
       "      <td>3.39%</td>\n",
       "      <td>8.67%</td>\n",
       "      <td>85.17%</td>\n",
       "    </tr>\n",
       "    <tr>\n",
       "      <th>1</th>\n",
       "      <td>Alaska</td>\n",
       "      <td>0.66%</td>\n",
       "      <td>7.07%</td>\n",
       "      <td>5.01%</td>\n",
       "      <td>0.96%</td>\n",
       "      <td>4.33%</td>\n",
       "      <td>12.00%</td>\n",
       "      <td>69.96%</td>\n",
       "    </tr>\n",
       "    <tr>\n",
       "      <th>2</th>\n",
       "      <td>Arizona</td>\n",
       "      <td>0.77%</td>\n",
       "      <td>1.91%</td>\n",
       "      <td>1.78%</td>\n",
       "      <td>1.68%</td>\n",
       "      <td>7.58%</td>\n",
       "      <td>10.65%</td>\n",
       "      <td>75.64%</td>\n",
       "    </tr>\n",
       "    <tr>\n",
       "      <th>3</th>\n",
       "      <td>Arkansas</td>\n",
       "      <td>0.15%</td>\n",
       "      <td>1.93%</td>\n",
       "      <td>0.88%</td>\n",
       "      <td>0.40%</td>\n",
       "      <td>3.52%</td>\n",
       "      <td>10.71%</td>\n",
       "      <td>82.41%</td>\n",
       "    </tr>\n",
       "    <tr>\n",
       "      <th>4</th>\n",
       "      <td>California</td>\n",
       "      <td>0.86%</td>\n",
       "      <td>2.56%</td>\n",
       "      <td>1.72%</td>\n",
       "      <td>5.18%</td>\n",
       "      <td>6.34%</td>\n",
       "      <td>9.83%</td>\n",
       "      <td>73.51%</td>\n",
       "    </tr>\n",
       "  </tbody>\n",
       "</table>\n",
       "</div>"
      ],
      "text/plain": [
       "        State Bicycle Walked Taxi, motorcycle, or other Public transportation  \\\n",
       "0     Alabama   0.14%  1.23%                      0.98%                 0.42%   \n",
       "1      Alaska   0.66%  7.07%                      5.01%                 0.96%   \n",
       "2     Arizona   0.77%  1.91%                      1.78%                 1.68%   \n",
       "3    Arkansas   0.15%  1.93%                      0.88%                 0.40%   \n",
       "4  California   0.86%  2.56%                      1.72%                 5.18%   \n",
       "\n",
       "  Worked at home Carpool Drove alone  \n",
       "0          3.39%   8.67%      85.17%  \n",
       "1          4.33%  12.00%      69.96%  \n",
       "2          7.58%  10.65%      75.64%  \n",
       "3          3.52%  10.71%      82.41%  \n",
       "4          6.34%   9.83%      73.51%  "
      ]
     },
     "execution_count": 3,
     "metadata": {},
     "output_type": "execute_result"
    }
   ],
   "source": [
    "# Loading state name csv\n",
    "df1 = pd.read_csv(path1)\n",
    "\n",
    "# Loading commute csv\n",
    "path3 = \"Project_data/commute_data.csv\" \n",
    "commute_df = pd.read_csv(path2)\n",
    "\n",
    "# getting the list diffrent mode of commute \n",
    "commute_mode = commute_df[\"Mode\"].unique().tolist()\n",
    "\n",
    "# dropping two states\n",
    "df = commute_df.loc[commute_df['State'] != 'Puerto Rico']\n",
    "df1 = df.loc[df['State'] != 'District of Columbia']\n",
    "\n",
    "# data frame of diffrent mode of commute \n",
    "df_list = []\n",
    "\n",
    "# for loop to get data frame corresponding to each mode of commute\n",
    "\n",
    "for mode in commute_mode:\n",
    "    mode_value = df1.loc[df1['Mode'] == mode].reset_index(drop=True)\n",
    "    rename_mode = mode_value.rename(columns={'Commute mode share (percent)': mode})\n",
    "    del rename_mode['Mode']\n",
    "    df_list.append(rename_mode)\n",
    "\n",
    "# merging all the data frame from the list of data frame\n",
    "\n",
    "df_list1 = reduce(lambda x, y: pd.merge(x, y, on = 'State'), df_list)\n",
    "\n",
    "df_list1.head()"
   ]
  },
  {
   "cell_type": "code",
   "execution_count": null,
   "metadata": {},
   "outputs": [],
   "source": []
  },
  {
   "cell_type": "code",
   "execution_count": 4,
   "metadata": {},
   "outputs": [
    {
     "data": {
      "text/html": [
       "<div>\n",
       "<style scoped>\n",
       "    .dataframe tbody tr th:only-of-type {\n",
       "        vertical-align: middle;\n",
       "    }\n",
       "\n",
       "    .dataframe tbody tr th {\n",
       "        vertical-align: top;\n",
       "    }\n",
       "\n",
       "    .dataframe thead th {\n",
       "        text-align: right;\n",
       "    }\n",
       "</style>\n",
       "<table border=\"1\" class=\"dataframe\">\n",
       "  <thead>\n",
       "    <tr style=\"text-align: right;\">\n",
       "      <th></th>\n",
       "      <th>State</th>\n",
       "      <th>Percentage Obesity</th>\n",
       "      <th>Bicycle</th>\n",
       "      <th>Walked</th>\n",
       "      <th>Taxi, motorcycle, or other</th>\n",
       "      <th>Public transportation</th>\n",
       "      <th>Worked at home</th>\n",
       "      <th>Carpool</th>\n",
       "      <th>Drove alone</th>\n",
       "    </tr>\n",
       "  </thead>\n",
       "  <tbody>\n",
       "    <tr>\n",
       "      <th>0</th>\n",
       "      <td>Alabama</td>\n",
       "      <td>36.2</td>\n",
       "      <td>0.14%</td>\n",
       "      <td>1.23%</td>\n",
       "      <td>0.98%</td>\n",
       "      <td>0.42%</td>\n",
       "      <td>3.39%</td>\n",
       "      <td>8.67%</td>\n",
       "      <td>85.17%</td>\n",
       "    </tr>\n",
       "    <tr>\n",
       "      <th>1</th>\n",
       "      <td>Alaska</td>\n",
       "      <td>29.5</td>\n",
       "      <td>0.66%</td>\n",
       "      <td>7.07%</td>\n",
       "      <td>5.01%</td>\n",
       "      <td>0.96%</td>\n",
       "      <td>4.33%</td>\n",
       "      <td>12.00%</td>\n",
       "      <td>69.96%</td>\n",
       "    </tr>\n",
       "    <tr>\n",
       "      <th>2</th>\n",
       "      <td>Arizona</td>\n",
       "      <td>29.5</td>\n",
       "      <td>0.77%</td>\n",
       "      <td>1.91%</td>\n",
       "      <td>1.78%</td>\n",
       "      <td>1.68%</td>\n",
       "      <td>7.58%</td>\n",
       "      <td>10.65%</td>\n",
       "      <td>75.64%</td>\n",
       "    </tr>\n",
       "    <tr>\n",
       "      <th>3</th>\n",
       "      <td>Arkansas</td>\n",
       "      <td>37.1</td>\n",
       "      <td>0.15%</td>\n",
       "      <td>1.93%</td>\n",
       "      <td>0.88%</td>\n",
       "      <td>0.40%</td>\n",
       "      <td>3.52%</td>\n",
       "      <td>10.71%</td>\n",
       "      <td>82.41%</td>\n",
       "    </tr>\n",
       "    <tr>\n",
       "      <th>4</th>\n",
       "      <td>California</td>\n",
       "      <td>25.8</td>\n",
       "      <td>0.86%</td>\n",
       "      <td>2.56%</td>\n",
       "      <td>1.72%</td>\n",
       "      <td>5.18%</td>\n",
       "      <td>6.34%</td>\n",
       "      <td>9.83%</td>\n",
       "      <td>73.51%</td>\n",
       "    </tr>\n",
       "  </tbody>\n",
       "</table>\n",
       "</div>"
      ],
      "text/plain": [
       "        State  Percentage Obesity Bicycle Walked Taxi, motorcycle, or other  \\\n",
       "0     Alabama                36.2   0.14%  1.23%                      0.98%   \n",
       "1      Alaska                29.5   0.66%  7.07%                      5.01%   \n",
       "2     Arizona                29.5   0.77%  1.91%                      1.78%   \n",
       "3    Arkansas                37.1   0.15%  1.93%                      0.88%   \n",
       "4  California                25.8   0.86%  2.56%                      1.72%   \n",
       "\n",
       "  Public transportation Worked at home Carpool Drove alone  \n",
       "0                 0.42%          3.39%   8.67%      85.17%  \n",
       "1                 0.96%          4.33%  12.00%      69.96%  \n",
       "2                 1.68%          7.58%  10.65%      75.64%  \n",
       "3                 0.40%          3.52%  10.71%      82.41%  \n",
       "4                 5.18%          6.34%   9.83%      73.51%  "
      ]
     },
     "execution_count": 4,
     "metadata": {},
     "output_type": "execute_result"
    }
   ],
   "source": [
    "# Loading obesetiy csv\n",
    "path4 = \"Project_data/obese_data.csv\" \n",
    "obese_df = pd.read_csv(path4)\n",
    "\n",
    "# getting the obeity data\n",
    "obes_df1 = obese_df[[\"State\",\"Measure Name\",\"Value\"]]\n",
    "clean_obese = obes_df1.loc[obes_df1[\"Measure Name\"] == \"Obesity\" ].reset_index(drop=True)\n",
    "clean_obese[(clean_obese['State'] != 'United States') & (clean_obese['State'] != 'District of Columbia')]\n",
    "\n",
    "# Merging obesity data with commute data dataframe\n",
    "final_obesity = clean_obese.merge(df_list1,on = \"State\")\n",
    "\n",
    "# dropping measure name column\n",
    "del final_obesity[\"Measure Name\"]\n",
    "\n",
    "# renaming the column\n",
    "clean_obesity_df = final_obesity.rename(columns={\"Value\":\"Percentage Obesity\"})\n",
    "clean_obesity_df.head()"
   ]
  },
  {
   "cell_type": "code",
   "execution_count": 5,
   "metadata": {},
   "outputs": [
    {
     "data": {
      "image/png": "[encoded data removed]",
      "text/plain": [
       "<Figure size 432x288 with 1 Axes>"
      ]
     },
     "metadata": {},
     "output_type": "display_data"
    }
   ],
   "source": [
    "# list of mode of commute\n",
    "commute_list = list(clean_obesity_df.columns[2:].values)\n",
    "commute_list\n",
    "mode_commute = []\n",
    "\n",
    "# for loop to find the mean of commute data\n",
    "for commute in commute_list:\n",
    "    mode_c = clean_obesity_df[commute].str[:-1].astype(float).mean()\n",
    "    mode_commute.append(mode_c)\n",
    "\n",
    "# pie chart showing distribution of mode of commute\n",
    "explode = (0, 0, 0, 0, 0, 0, 0.1)\n",
    "plt.pie(mode_commute, labels=commute_list, explode= explode,autopct=\"%1.1f%%\", shadow=True, startangle=140)\n",
    "plt.title(\"Distribution of mode of commute\")\n",
    "plt.axis(\"equal\")\n",
    "plt.savefig(\"project_image/commutemode.png\")\n",
    "plt.show()\n"
   ]
  },
  {
   "cell_type": "code",
   "execution_count": 6,
   "metadata": {},
   "outputs": [
    {
     "ename": "NameError",
     "evalue": "name 'mean_obesity' is not defined",
     "output_type": "error",
     "traceback": [
      "\u001b[1;31m---------------------------------------------------------------------------\u001b[0m",
      "\u001b[1;31mNameError\u001b[0m                                 Traceback (most recent call last)",
      "\u001b[1;32m<ipython-input-6-f1cb8e01d128>\u001b[0m in \u001b[0;36m<module>\u001b[1;34m\u001b[0m\n\u001b[1;32m----> 1\u001b[1;33m \u001b[0mprint\u001b[0m\u001b[1;33m(\u001b[0m\u001b[1;34mf'Average Rate of Obesity in USA : {mean_obesity}'\u001b[0m\u001b[1;33m)\u001b[0m\u001b[1;33m\u001b[0m\u001b[1;33m\u001b[0m\u001b[0m\n\u001b[0m\u001b[0;32m      2\u001b[0m \u001b[1;33m\u001b[0m\u001b[0m\n\u001b[0;32m      3\u001b[0m \u001b[0mx_axis\u001b[0m \u001b[1;33m=\u001b[0m \u001b[0mclean_obesity_df\u001b[0m\u001b[1;33m[\u001b[0m\u001b[1;34m\"State\"\u001b[0m\u001b[1;33m]\u001b[0m\u001b[1;33m\u001b[0m\u001b[1;33m\u001b[0m\u001b[0m\n\u001b[0;32m      4\u001b[0m \u001b[0my_asis\u001b[0m \u001b[1;33m=\u001b[0m \u001b[0mclean_obesity_df\u001b[0m\u001b[1;33m[\u001b[0m\u001b[1;34m\"Percentage Obesity\"\u001b[0m\u001b[1;33m]\u001b[0m\u001b[1;33m\u001b[0m\u001b[1;33m\u001b[0m\u001b[0m\n\u001b[0;32m      5\u001b[0m \u001b[0mplt\u001b[0m\u001b[1;33m.\u001b[0m\u001b[0mfigure\u001b[0m\u001b[1;33m(\u001b[0m\u001b[0mfigsize\u001b[0m\u001b[1;33m=\u001b[0m\u001b[1;33m(\u001b[0m\u001b[1;36m13\u001b[0m\u001b[1;33m,\u001b[0m\u001b[1;36m5\u001b[0m\u001b[1;33m)\u001b[0m\u001b[1;33m)\u001b[0m\u001b[1;33m\u001b[0m\u001b[1;33m\u001b[0m\u001b[0m\n",
      "\u001b[1;31mNameError\u001b[0m: name 'mean_obesity' is not defined"
     ]
    }
   ],
   "source": [
    "print(f'Average Rate of Obesity in USA : {mean_obesity}')\n",
    "\n",
    "x_axis = clean_obesity_df[\"State\"]\n",
    "y_asis = clean_obesity_df[\"Percentage Obesity\"]\n",
    "plt.figure(figsize=(13,5))\n",
    "plt.bar(x_axis,y_asis,color=\"b\", align=\"center\")\n",
    "plt.xlim(-.75, len(x_axis)-0.25)\n",
    "plt.ylim(0, max(y_asis)+10)\n",
    "plt.title(\"State wise Obesity Distribution\",fontsize = 15)\n",
    "plt.xlabel(\"State\",fontsize = 12)\n",
    "plt.ylabel(\"Percentage Obesity\",fontsize = 12)\n",
    "plt.xticks(rotation=90)\n",
    "plt.savefig(\"project_image/obesitybar.png\")\n",
    "plt.show()\n",
    "mean_obesity = clean_obesity_df[\"Percentage Obesity\"].mean()\n"
   ]
  },
  {
   "cell_type": "code",
   "execution_count": 7,
   "metadata": {},
   "outputs": [
    {
     "name": "stdout",
     "output_type": "stream",
     "text": [
      "The correlation coefficient between Obesity and Public transport is -0.43\n",
      "y = -0.37x + 32.56\n"
     ]
    },
    {
     "data": {
      "image/png": "[encoded data removed]",
      "text/plain": [
       "<Figure size 432x288 with 1 Axes>"
      ]
     },
     "metadata": {
      "needs_background": "light"
     },
     "output_type": "display_data"
    }
   ],
   "source": [
    "# Scatter Plot obesity vs public transport\n",
    "x_values = clean_obesity_df[\"Public transportation\"].str[:-1].astype(float)\n",
    "y_values = clean_obesity_df[\"Percentage Obesity\"]\n",
    "plt.scatter(x_values,y_values)\n",
    "plt.xlabel('Public Trasportation')\n",
    "plt.ylabel('Percentage obesity')\n",
    "\n",
    "(slope, intercept, rvalue, pvalue, stderr) = linregress(x_values, y_values)\n",
    "\n",
    "# Calculate regression value\n",
    "regress_values = x_values * slope + intercept\n",
    "\n",
    "# Calculating Line equation\n",
    "line_eq = \"y = \" + str(round(slope,2)) + \"x + \" + str(round(intercept,2))\n",
    "\n",
    "\n",
    "\n",
    "# plotting regression line on scatter plot\n",
    "plt.plot(x_values,regress_values,\"r-\")\n",
    "plt.annotate(line_eq,(20,25),fontsize=12,color=\"red\")\n",
    "\n",
    "\n",
    "print(f\"The correlation coefficient between Obesity and Public transport is {round(st.pearsonr(x_values,y_values)[0],2)}\")\n",
    "plt.savefig(\"project_image/publictransportVSobesity_line.png\")\n",
    "print(line_eq)\n",
    "plt.show()"
   ]
  },
  {
   "cell_type": "markdown",
   "metadata": {},
   "source": [
    "In the above scatter plot,it is clearly visibly that there is a moderate negative correlation between the use if public transport and the obesity rate. "
   ]
  },
  {
   "cell_type": "code",
   "execution_count": 8,
   "metadata": {},
   "outputs": [
    {
     "name": "stdout",
     "output_type": "stream",
     "text": [
      "The correlation coefficient between obesity and Drove alone is 0.68\n",
      "y = 0.47x + -5.45\n"
     ]
    },
    {
     "data": {
      "image/png": "[encoded data removed]",
      "text/plain": [
       "<Figure size 432x288 with 1 Axes>"
      ]
     },
     "metadata": {
      "needs_background": "light"
     },
     "output_type": "display_data"
    }
   ],
   "source": [
    "# Scatter Plot obesity VS drove alone\n",
    "x_values = clean_obesity_df[\"Drove alone\"].str[:-1].astype(float)\n",
    "y_values = clean_obesity_df[\"Percentage Obesity\"]\n",
    "plt.scatter(x_values,y_values)\n",
    "plt.xlabel('Drove alone')\n",
    "plt.ylabel('Percentage obesity')\n",
    "\n",
    "(slope, intercept, rvalue, pvalue, stderr) = linregress(x_values, y_values)\n",
    "\n",
    "# Calculate regression value\n",
    "regress_values = x_values * slope + intercept\n",
    "\n",
    "# Calculating Line equation\n",
    "line_eq = \"y = \" + str(round(slope,2)) + \"x + \" + str(round(intercept,2))\n",
    "\n",
    "# plotting regression line on scatter plot\n",
    "plt.plot(x_values,regress_values,\"r-\")\n",
    "plt.annotate(line_eq,(20,25),fontsize=15,color=\"red\")\n",
    "\n",
    "print(f\"The correlation coefficient between obesity and Drove alone is {round(st.pearsonr(x_values,y_values)[0],2)}\")\n",
    "plt.savefig(\"project_image/dorvealoneVSobesity_line.png\")\n",
    "print(line_eq)\n",
    "plt.show()"
   ]
  },
  {
   "cell_type": "markdown",
   "metadata": {},
   "source": [
    "In the above scatter plot,it is clearly visibly that there is a strong positive correlation between the use of personal vehicle and the obesity rate."
   ]
  },
  {
   "cell_type": "code",
   "execution_count": 9,
   "metadata": {},
   "outputs": [
    {
     "name": "stdout",
     "output_type": "stream",
     "text": [
      "The correlation coefficient between obesity and Walked is -0.49\n",
      "y = -1.55x + 35.7\n"
     ]
    },
    {
     "data": {
      "image/png": "[encoded data removed]",
      "text/plain": [
       "<Figure size 432x288 with 1 Axes>"
      ]
     },
     "metadata": {
      "needs_background": "light"
     },
     "output_type": "display_data"
    }
   ],
   "source": [
    "# Scatter Plot obesity VS walked\n",
    "x_values = clean_obesity_df[\"Walked\"].str[:-1].astype(float)\n",
    "y_values = clean_obesity_df[\"Percentage Obesity\"]\n",
    "plt.scatter(x_values,y_values)\n",
    "plt.xlabel('Walked')\n",
    "plt.ylabel('Percentage obesity')\n",
    "\n",
    "(slope, intercept, rvalue, pvalue, stderr) = linregress(x_values, y_values)\n",
    "\n",
    "# Calculate regression value\n",
    "regress_values = x_values * slope + intercept\n",
    "\n",
    "# Calculating Line equation\n",
    "line_eq = \"y = \" + str(round(slope,2)) + \"x + \" + str(round(intercept,2))\n",
    "\n",
    "# plotting regression line on scatter plot\n",
    "plt.plot(x_values,regress_values,\"r-\")\n",
    "plt.annotate(line_eq,(5,35),fontsize=15,color=\"red\")\n",
    "\n",
    "print(f\"The correlation coefficient between obesity and Walked is {round(st.pearsonr(x_values,y_values)[0],2)}\")\n",
    "plt.savefig(\"project_image/WalkedVSobesity_line.png\")\n",
    "print(line_eq)\n",
    "plt.show()"
   ]
  },
  {
   "cell_type": "code",
   "execution_count": null,
   "metadata": {},
   "outputs": [],
   "source": []
  }
 ],
 "metadata": {
  "anaconda-cloud": {},
  "kernel_info": {
   "name": "python3"
  },
  "kernelspec": {
   "display_name": "Python 3",
   "language": "python",
   "name": "python3"
  },
  "language_info": {
   "codemirror_mode": {
    "name": "ipython",
    "version": 3
   },
   "file_extension": ".py",
   "mimetype": "text/x-python",
   "name": "python",
   "nbconvert_exporter": "python",
   "pygments_lexer": "ipython3",
   "version": "3.8.5"
  },
  "latex_envs": {
   "LaTeX_envs_menu_present": true,
   "autoclose": false,
   "autocomplete": true,
   "bibliofile": "biblio.bib",
   "cite_by": "apalike",
   "current_citInitial": 1,
   "eqLabelWithNumbers": true,
   "eqNumInitial": 1,
   "hotkeys": {
    "equation": "Ctrl-E",
    "itemize": "Ctrl-I"
   },
   "labels_anchors": false,
   "latex_user_defs": false,
   "report_style_numbering": false,
   "user_envs_cfg": false
  },
  "nteract": {
   "version": "0.12.3"
  }
 },
 "nbformat": 4,
 "nbformat_minor": 2
}
