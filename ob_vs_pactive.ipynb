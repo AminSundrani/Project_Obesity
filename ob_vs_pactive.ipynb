{
 "cells": [
  {
   "cell_type": "code",
   "execution_count": 85,
   "id": "9537777c",
   "metadata": {
    "scrolled": true
   },
   "outputs": [],
   "source": [
    "\n",
    "import pandas as pd\n",
    "import os\n",
    "\n",
    "obesity_data = pd.read_csv(\"data_sources/National_Obesity_By_State.csv\")\n",
    "gym_data = pd.read_csv(\"data_sources/US_states_gyms_2019.csv\")\n",
    "pactive_data = pd.read_csv(\"data_sources/physical_activeness_states_2019.csv\") \n",
    "\n",
    "#merging gym data and physical activeness data, dropping duplicated columns then rename\n",
    "activeness_df = pd.merge(gym_data, pactive_data, on='alpha code', how='right')\n",
    "activeness_df = activeness_df.drop(columns=['state_y', 'state code_y'])\n",
    "activeness_df.rename(columns ={'state_x': 'State','state code_x': 'State Code'}, inplace = True)\n",
    "activeness_df['State'] = activeness_df['State'].str.title() #capitalise State names so can be merged with obesity_data\n",
    "\n",
    "obesity_data.rename(columns={'NAME':'State'}, inplace = True) # rename column NAME to State to match up with activeness_df\n",
    "# checking with obesity_data.dtypes to identify the data type before merge,\n",
    "obesity_data =obesity_data.drop(columns=['FID', 'SHAPE_Length', 'SHAPE_Area']) #dropping unwanted columns\n",
    "obesity_data= obesity_data.drop([35,38]) #dropping index number for District of Columbia and Puerto Rico\n",
    "\n",
    "# # #merging activeness_df with obesity_data\n",
    "obesevactive_df = pd.merge(activeness_df, obesity_data, how='outer')\n",
    "obesevactive_df.reset_index(drop=True, inplace=True)\n",
    "\n",
    "obesevactive_df.to_csv('data_sources\\obese_vs_activeness.csv',index = False, header=True)"
   ]
  }
 ],
 "metadata": {
  "kernelspec": {
   "display_name": "Python 3",
   "language": "python",
   "name": "python3"
  },
  "language_info": {
   "codemirror_mode": {
    "name": "ipython",
    "version": 3
   },
   "file_extension": ".py",
   "mimetype": "text/x-python",
   "name": "python",
   "nbconvert_exporter": "python",
   "pygments_lexer": "ipython3",
   "version": "3.6.10"
  }
 },
 "nbformat": 4,
 "nbformat_minor": 5
}
